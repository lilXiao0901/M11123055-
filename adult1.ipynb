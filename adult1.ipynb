{
 "cells": [
  {
   "cell_type": "code",
   "execution_count": 2,
   "id": "4e47be4f",
   "metadata": {},
   "outputs": [],
   "source": [
    "import math\n",
    "import numpy as np\n",
    "import pandas as pd\n",
    "import matplotlib.pyplot as plt\n",
    "from sklearn.preprocessing import StandardScaler\n",
    "from sklearn.model_selection import train_test_split\n",
    "from sklearn.neighbors import KNeighborsClassifier\n",
    "from sklearn import svm\n",
    "from sklearn.ensemble import RandomForestRegressor\n",
    "from sklearn import metrics"
   ]
  },
  {
   "cell_type": "code",
   "execution_count": 14,
   "id": "03765151",
   "metadata": {},
   "outputs": [],
   "source": [
    "def plot_feature_importances(model):\n",
    "    n_features = X_test.shape[1]\n",
    "    plt.figure()\n",
    "    plt.barh(np.arange(n_features), model.feature_importances_, align='center')\n",
    "    plt.yticks(np.arange(n_features), X_test.columns)\n",
    "    plt.xlabel(\"Feature importance\")\n",
    "    plt.ylabel(\"Feature\")\n",
    "    plt.ylim(-1, n_features)\n",
    "    plt.show()"
   ]
  },
  {
   "cell_type": "code",
   "execution_count": 4,
   "id": "5ad677ba",
   "metadata": {
    "scrolled": true
   },
   "outputs": [],
   "source": [
    "#匯入資料、前處理\n",
    "import pandas as pd\n",
    "from sklearn.preprocessing import LabelEncoder\n",
    "data_test = pd.read_csv(\"C:\\\\adult.test.txt\")\n",
    "data_train = pd.read_csv(\"C:\\\\adult.train.txt\")\n",
    "data_test.columns=[\"age\", \"workclass\", \"fnlwgt\", \"education\",\"education-num\", \"marital-status\", \"occupation\", \"relationship\", \"race\", \"sex\", \"capital-gain\", \"capital-loss\", \"hours-per-week\", \"native-country\", \"Income\"]\n",
    "data_train.columns=[\"age\", \"workclass\", \"fnlwgt\", \"education\",\"education-num\", \"marital-status\", \"occupation\", \"relationship\", \"race\", \"sex\", \"capital-gain\", \"capital-loss\", \"hours-per-week\", \"native-country\", \"Income\"]\n",
    "data_test = data_test.drop(data_test[data_test['workclass']==\" ?\"].index)\n",
    "data_train = data_train.drop(data_train[data_train['workclass']==\" ?\"].index)\n",
    "for col in data_train[[\"workclass\",\"marital-status\",  \"education\",\"occupation\",\"relationship\",\"race\",\"capital-loss\",\"sex\",\"native-country\",\"Income\"]]:\n",
    "    LE=LabelEncoder()\n",
    "    data_train[col]=LE.fit_transform(data_train[col])\n",
    "for col in data_test[[\"workclass\",\"marital-status\",  \"education\",\"occupation\",\"relationship\",\"race\",\"capital-loss\",\"sex\",\"native-country\",\"Income\"]]:\n",
    "    LE=LabelEncoder()\n",
    "    data_test[col]=LE.fit_transform(data_test[col])"
   ]
  },
  {
   "cell_type": "code",
   "execution_count": 5,
   "id": "22f13049",
   "metadata": {},
   "outputs": [],
   "source": [
    "#切割訓練集\n",
    "X_train = data_train.drop([\"hours-per-week\"], axis=1)\n",
    "y_train= data_train[\"hours-per-week\"]"
   ]
  },
  {
   "cell_type": "code",
   "execution_count": 6,
   "id": "308e5f03",
   "metadata": {},
   "outputs": [
    {
     "data": {
      "text/plain": [
       "0        50\n",
       "1        40\n",
       "2        40\n",
       "4        30\n",
       "6        32\n",
       "         ..\n",
       "16274    40\n",
       "16275    36\n",
       "16277    50\n",
       "16278    40\n",
       "16279    60\n",
       "Name: hours-per-week, Length: 15317, dtype: int64"
      ]
     },
     "execution_count": 6,
     "metadata": {},
     "output_type": "execute_result"
    }
   ],
   "source": [
    "#切割測試集\n",
    "X_test= data_test.drop([\"hours-per-week\"], axis=1)\n",
    "y_test= data_test[\"hours-per-week\"]\n",
    "y_test"
   ]
  },
  {
   "cell_type": "code",
   "execution_count": 7,
   "id": "0a8acec8",
   "metadata": {},
   "outputs": [],
   "source": [
    "#資料標準化\n",
    "scaler = StandardScaler()\n",
    "scaler.fit(X_train)\n",
    "scaled_features = scaler.transform(X_train)\n",
    "data_test_columns=[\"age\", \"workclass\", \"fnlwgt\", \"education\",\"education-num\", \"marital-status\", \"occupation\", \"relationship\", \"race\", \"sex\", \"capital-gain\", \"capital-loss\", \"native-country\", \"Income\"]\n",
    "X_train= pd.DataFrame(scaled_features, columns=data_test_columns)\n",
    "scaler = StandardScaler()\n",
    "scaler.fit(X_test)\n",
    "scaled_features = scaler.transform(X_test)\n",
    "data_test_columns=[\"age\", \"workclass\", \"fnlwgt\", \"education\",\"education-num\", \"marital-status\", \"occupation\", \"relationship\", \"race\", \"sex\", \"capital-gain\", \"capital-loss\", \"native-country\", \"Income\"]\n",
    "X_test= pd.DataFrame(scaled_features, columns=data_test_columns)"
   ]
  },
  {
   "cell_type": "code",
   "execution_count": 8,
   "id": "4a8a3c6b",
   "metadata": {},
   "outputs": [
    {
     "name": "stderr",
     "output_type": "stream",
     "text": [
      "C:\\Users\\User\\anaconda3\\lib\\site-packages\\sklearn\\neighbors\\_classification.py:228: FutureWarning: Unlike other reduction functions (e.g. `skew`, `kurtosis`), the default behavior of `mode` typically preserves the axis it acts along. In SciPy 1.11.0, this behavior will change: the default value of `keepdims` will become False, the `axis` over which the statistic is taken will be eliminated, and the value None will no longer be accepted. Set `keepdims` to True or False to avoid this warning.\n",
      "  mode, _ = stats.mode(_y[neigh_ind, k], axis=1)\n"
     ]
    },
    {
     "name": "stdout",
     "output_type": "stream",
     "text": [
      "KNN調整前之MSE: 198.842397336293\n",
      "KNN調整前之RMSE: 14.101148794913591\n",
      "KNN調整前之MAPE: 0.2849364667880739\n"
     ]
    }
   ],
   "source": [
    "#KNN(n=3)調整前\n",
    "knn = KNeighborsClassifier(n_neighbors=3)\n",
    "knn.fit(X_train, y_train)\n",
    "pred = knn.predict(X_test)\n",
    "MAE = metrics.mean_squared_error(y_test, pred)\n",
    "\n",
    "print(\"KNN調整前之MSE:\", MAE)\n",
    "print(\"KNN調整前之RMSE:\", math.sqrt(MAE))\n",
    "print(\"KNN調整前之MAPE:\", metrics.mean_absolute_percentage_error(y_test, pred))"
   ]
  },
  {
   "cell_type": "code",
   "execution_count": 9,
   "id": "1b25a99f",
   "metadata": {},
   "outputs": [
    {
     "name": "stdout",
     "output_type": "stream",
     "text": [
      "SVR調整前之MSE: 123.93006834402728\n",
      "SVR調整前之RMSE: 11.132388258771218\n",
      "SVR調整前之MAPE: 0.27251688733605745\n"
     ]
    }
   ],
   "source": [
    "#SVR調整前\n",
    "svr = svm.SVR(C=1)\n",
    "svr.fit(X_train, y_train)\n",
    "pred = svr.predict(X_test)\n",
    "\n",
    "MAE = metrics.mean_squared_error(y_test, pred)\n",
    "\n",
    "print(\"SVR調整前之MAE:\", MAE)\n",
    "print(\"SVR調整前之RMSE:\", math.sqrt(MAE))\n",
    "print(\"SVR調整前之MAPE:\", metrics.mean_absolute_percentage_error(y_test, pred))"
   ]
  },
  {
   "cell_type": "code",
   "execution_count": 10,
   "id": "930c2a4e",
   "metadata": {},
   "outputs": [
    {
     "name": "stderr",
     "output_type": "stream",
     "text": [
      "C:\\Users\\User\\anaconda3\\lib\\site-packages\\sklearn\\ensemble\\_forest.py:396: FutureWarning: Criterion 'mse' was deprecated in v1.0 and will be removed in version 1.2. Use `criterion='squared_error'` which is equivalent.\n",
      "  warn(\n"
     ]
    },
    {
     "name": "stdout",
     "output_type": "stream",
     "text": [
      "RandomForest調整前之MSE: 116.94715915578749\n",
      "RandomForest調整前之RMSE: 10.814210981656844\n",
      "RandomForest調整前之MAPE: 0.272645875856374\n"
     ]
    }
   ],
   "source": [
    "#RandomForest調整前\n",
    "randomForest = RandomForestRegressor(n_estimators=100, criterion = \"mse\")\n",
    "randomForest.fit(X_train, y_train)\n",
    "pred = randomForest.predict(X_test)\n",
    "\n",
    "MAE = metrics.mean_squared_error(y_test, pred)\n",
    "\n",
    "print(\"RandomForest調整前之MAE:\", MAE)\n",
    "print(\"RandomForest調整前之RMSE:\", math.sqrt(MAE))\n",
    "print(\"RandomForest調整前之MAPE:\", metrics.mean_absolute_percentage_error(y_test, pred))"
   ]
  },
  {
   "cell_type": "code",
   "execution_count": 15,
   "id": "d52fa70f",
   "metadata": {},
   "outputs": [
    {
     "data": {
      "image/png": "[encoded data removed]",
      "text/plain": [
       "<Figure size 640x480 with 1 Axes>"
      ]
     },
     "metadata": {},
     "output_type": "display_data"
    }
   ],
   "source": [
    "#特徵重要性-以RandomForest Model找尋重要性最高之特徵\n",
    "plot_feature_importances(randomForest)"
   ]
  },
  {
   "cell_type": "code",
   "execution_count": 16,
   "id": "2cfdd2c8",
   "metadata": {},
   "outputs": [],
   "source": [
    "#刪除重要性最高之特徵-LDAPS_Tmax_lapse\n",
    "X_train = X_train.drop([\"fnlwgt\"], axis=1)\n",
    "X_test = X_test.drop([\"fnlwgt\"], axis=1)"
   ]
  },
  {
   "cell_type": "code",
   "execution_count": 17,
   "id": "bf4822ed",
   "metadata": {},
   "outputs": [
    {
     "name": "stderr",
     "output_type": "stream",
     "text": [
      "C:\\Users\\User\\anaconda3\\lib\\site-packages\\sklearn\\neighbors\\_classification.py:228: FutureWarning: Unlike other reduction functions (e.g. `skew`, `kurtosis`), the default behavior of `mode` typically preserves the axis it acts along. In SciPy 1.11.0, this behavior will change: the default value of `keepdims` will become False, the `axis` over which the statistic is taken will be eliminated, and the value None will no longer be accepted. Set `keepdims` to True or False to avoid this warning.\n",
      "  mode, _ = stats.mode(_y[neigh_ind, k], axis=1)\n"
     ]
    },
    {
     "name": "stdout",
     "output_type": "stream",
     "text": [
      "KNN調整後之MAE: 191.39661813671086\n",
      "KNN調整後之RMSE: 13.834616660273275\n",
      "KNN調整後之MAPE: 0.28176126305529997\n"
     ]
    }
   ],
   "source": [
    "#KNN(n=3)調整後\n",
    "knn = KNeighborsClassifier(n_neighbors=3)\n",
    "knn.fit(X_train, y_train.astype(\"string\"))\n",
    "pred = knn.predict(X_test)\n",
    "\n",
    "MAE = metrics.mean_squared_error(y_test, pred)\n",
    "\n",
    "print(\"KNN調整後之MAE:\", MAE)\n",
    "print(\"KNN調整後之RMSE:\", math.sqrt(MAE))\n",
    "print(\"KNN調整後之MAPE:\", metrics.mean_absolute_percentage_error(y_test, pred))"
   ]
  },
  {
   "cell_type": "code",
   "execution_count": 18,
   "id": "e9e84b6a",
   "metadata": {},
   "outputs": [
    {
     "name": "stdout",
     "output_type": "stream",
     "text": [
      "SVR調整後之MAE: 123.47797978407118\n",
      "SVR調整後之RMSE: 11.112064604926989\n",
      "SVR調整後之MAPE: 0.2711515250750206\n"
     ]
    }
   ],
   "source": [
    "#SVR調整後\n",
    "svr = svm.SVR(C=1)\n",
    "svr.fit(X_train, y_train)\n",
    "pred = svr.predict(X_test)\n",
    "\n",
    "MAE = metrics.mean_squared_error(y_test, pred)\n",
    "\n",
    "print(\"SVR調整後之MAE:\", MAE)\n",
    "print(\"SVR調整後之RMSE:\", math.sqrt(MAE))\n",
    "print(\"SVR調整後之MAPE:\", metrics.mean_absolute_percentage_error(y_test, pred))"
   ]
  },
  {
   "cell_type": "code",
   "execution_count": 19,
   "id": "102dec83",
   "metadata": {},
   "outputs": [
    {
     "name": "stderr",
     "output_type": "stream",
     "text": [
      "C:\\Users\\User\\anaconda3\\lib\\site-packages\\sklearn\\ensemble\\_forest.py:396: FutureWarning: Criterion 'mse' was deprecated in v1.0 and will be removed in version 1.2. Use `criterion='squared_error'` which is equivalent.\n",
      "  warn(\n"
     ]
    },
    {
     "name": "stdout",
     "output_type": "stream",
     "text": [
      "RandomForest調整後之MAE: 127.191500669139\n",
      "RandomForest調整後之RMSE: 11.277920937350952\n",
      "RandomForest調整後之MAPE: 0.2807092616827253\n"
     ]
    }
   ],
   "source": [
    "#RandomForest調整後\n",
    "randomForest = RandomForestRegressor(n_estimators=100, criterion = \"mse\")\n",
    "randomForest.fit(X_train, y_train)\n",
    "pred = randomForest.predict(X_test)\n",
    "\n",
    "MAE = metrics.mean_squared_error(y_test, pred)\n",
    "\n",
    "print(\"RandomForest調整後之MAE:\", MAE)\n",
    "print(\"RandomForest調整後之RMSE:\", math.sqrt(MAE))\n",
    "print(\"RandomForest調整後之MAPE:\", metrics.mean_absolute_percentage_error(y_test, pred))"
   ]
  }
 ],
 "metadata": {
  "kernelspec": {
   "display_name": "Python 3 (ipykernel)",
   "language": "python",
   "name": "python3"
  },
  "language_info": {
   "codemirror_mode": {
    "name": "ipython",
    "version": 3
   },
   "file_extension": ".py",
   "mimetype": "text/x-python",
   "name": "python",
   "nbconvert_exporter": "python",
   "pygments_lexer": "ipython3",
   "version": "3.9.13"
  }
 },
 "nbformat": 4,
 "nbformat_minor": 5
}
