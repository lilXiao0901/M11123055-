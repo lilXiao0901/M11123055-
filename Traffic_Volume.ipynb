{
 "cells": [
  {
   "cell_type": "code",
   "execution_count": 1,
   "id": "4e47be4f",
   "metadata": {},
   "outputs": [],
   "source": [
    "import math\n",
    "import numpy as np\n",
    "import pandas as pd\n",
    "import matplotlib.pyplot as plt\n",
    "from sklearn.preprocessing import StandardScaler\n",
    "from sklearn.model_selection import train_test_split\n",
    "from sklearn.neighbors import KNeighborsClassifier\n",
    "from sklearn import svm\n",
    "from sklearn.ensemble import RandomForestRegressor\n",
    "from sklearn import metrics"
   ]
  },
  {
   "cell_type": "code",
   "execution_count": 2,
   "id": "03765151",
   "metadata": {},
   "outputs": [],
   "source": [
    "def picture(model):\n",
    "    n_features = X.shape[1]\n",
    "    plt.figure()\n",
    "    plt.barh(np.arange(n_features), model.feature_importances_, align='center')\n",
    "    plt.yticks(np.arange(n_features), X.columns)\n",
    "    plt.xlabel(\"Feature importance\")\n",
    "    plt.ylabel(\"Feature\")\n",
    "    plt.ylim(-1, n_features)\n",
    "    plt.show()"
   ]
  },
  {
   "cell_type": "code",
   "execution_count": 3,
   "id": "5ad677ba",
   "metadata": {
    "scrolled": true
   },
   "outputs": [],
   "source": [
    "#匯入資料\n",
    "import pandas as pd\n",
    "data = pd.read_csv(\"C:\\\\Traffic_Volume.csv\")\n",
    "\n",
    "data = data.drop([\"holiday\",\"weather_main\",\"weather_main\",\"weather_description\",\"date_time\"], axis=1)\n",
    "data = data.dropna()\n"
   ]
  },
  {
   "cell_type": "code",
   "execution_count": 4,
   "id": "22f13049",
   "metadata": {},
   "outputs": [],
   "source": [
    "#切割訓練、測試集\n",
    "X = data.drop([\"traffic_volume\"], axis=1)\n",
    "y = data[\"traffic_volume\"]\n",
    "X_train, X_test, y_train, y_test = train_test_split(X,y, test_size=0.3, random_state=0)"
   ]
  },
  {
   "cell_type": "code",
   "execution_count": 5,
   "id": "0a8acec8",
   "metadata": {},
   "outputs": [],
   "source": [
    "#資料標準化\n",
    "scaler = StandardScaler()\n",
    "scaler.fit(X)\n",
    "scaled_features = scaler.transform(X)\n",
    "X = pd.DataFrame(scaled_features, columns=data.columns[:-1])"
   ]
  },
  {
   "cell_type": "code",
   "execution_count": 6,
   "id": "4a8a3c6b",
   "metadata": {},
   "outputs": [
    {
     "name": "stderr",
     "output_type": "stream",
     "text": [
      "C:\\Users\\User\\anaconda3\\lib\\site-packages\\sklearn\\neighbors\\_classification.py:228: FutureWarning: Unlike other reduction functions (e.g. `skew`, `kurtosis`), the default behavior of `mode` typically preserves the axis it acts along. In SciPy 1.11.0, this behavior will change: the default value of `keepdims` will become False, the `axis` over which the statistic is taken will be eliminated, and the value None will no longer be accepted. Set `keepdims` to True or False to avoid this warning.\n",
      "  mode, _ = stats.mode(_y[neigh_ind, k], axis=1)\n"
     ]
    },
    {
     "name": "stdout",
     "output_type": "stream",
     "text": [
      "KNN調整前之MSE: 5756268.314202738\n",
      "KNN調整前之RMSE: 2399.2224395005014\n",
      "KNN調整前之MAPE: 2.1258297916234077\n"
     ]
    }
   ],
   "source": [
    "#KNN(n=3)調整前\n",
    "knn = KNeighborsClassifier(n_neighbors=3)\n",
    "knn.fit(X_train, y_train.astype(\"string\"))\n",
    "pred = knn.predict(X_test)\n",
    "\n",
    "MAE = metrics.mean_squared_error(y_test, pred)\n",
    "\n",
    "print(\"KNN調整前之MAE:\", MAE)\n",
    "print(\"KNN調整前之RMSE:\", math.sqrt(MAE))\n",
    "print(\"KNN調整前之MAPE:\", metrics.mean_absolute_percentage_error(y_test, pred))"
   ]
  },
  {
   "cell_type": "code",
   "execution_count": 7,
   "id": "1b25a99f",
   "metadata": {},
   "outputs": [
    {
     "name": "stdout",
     "output_type": "stream",
     "text": [
      "SVR調整前之MSE: 3922843.0256439866\n",
      "SVR調整前之RMSE: 1980.6168295871837\n",
      "SVR調整前之MAPE: 2.907526830453834\n"
     ]
    }
   ],
   "source": [
    "#SVR調整前\n",
    "svr = svm.SVR(C=1)\n",
    "svr.fit(X_train, y_train)\n",
    "pred = svr.predict(X_test)\n",
    "\n",
    "MAE = metrics.mean_squared_error(y_test, pred)\n",
    "\n",
    "print(\"SVR調整前之MSE:\", MAE)\n",
    "print(\"SVR調整前之RMSE:\", math.sqrt(MAE))\n",
    "print(\"SVR調整前之MAPE:\", metrics.mean_absolute_percentage_error(y_test, pred))"
   ]
  },
  {
   "cell_type": "code",
   "execution_count": 8,
   "id": "930c2a4e",
   "metadata": {},
   "outputs": [
    {
     "name": "stderr",
     "output_type": "stream",
     "text": [
      "C:\\Users\\User\\anaconda3\\lib\\site-packages\\sklearn\\ensemble\\_forest.py:396: FutureWarning: Criterion 'mse' was deprecated in v1.0 and will be removed in version 1.2. Use `criterion='squared_error'` which is equivalent.\n",
      "  warn(\n"
     ]
    },
    {
     "name": "stdout",
     "output_type": "stream",
     "text": [
      "RandomForest調整前之MSE: 4060102.555252331\n",
      "RandomForest調整前之RMSE: 2014.9696164588515\n",
      "RandomForest調整前之MAPE: 2.26656789142996\n"
     ]
    }
   ],
   "source": [
    "#RandomForest調整前\n",
    "randomForest = RandomForestRegressor(n_estimators=100, criterion = \"mse\")\n",
    "randomForest.fit(X_train, y_train)\n",
    "pred = randomForest.predict(X_test)\n",
    "\n",
    "MAE = metrics.mean_squared_error(y_test, pred)\n",
    "\n",
    "print(\"RandomForest調整前之MSE:\", MAE)\n",
    "print(\"RandomForest調整前之RMSE:\", math.sqrt(MAE))\n",
    "print(\"RandomForest調整前之MAPE:\", metrics.mean_absolute_percentage_error(y_test, pred))"
   ]
  },
  {
   "cell_type": "code",
   "execution_count": 9,
   "id": "d52fa70f",
   "metadata": {},
   "outputs": [
    {
     "data": {
      "image/png": "[encoded data removed]",
      "text/plain": [
       "<Figure size 640x480 with 1 Axes>"
      ]
     },
     "metadata": {},
     "output_type": "display_data"
    }
   ],
   "source": [
    "#特徵重要性-以RandomForest Model找尋重要性最高之特徵\n",
    "picture(randomForest)"
   ]
  },
  {
   "cell_type": "code",
   "execution_count": 11,
   "id": "2cfdd2c8",
   "metadata": {},
   "outputs": [],
   "source": [
    "#刪除重要性最高之特徵-LDAPS_Tmax_lapse\n",
    "X_train = X_train.drop([\"temp\"], axis=1)\n",
    "X_test = X_test.drop([\"temp\"], axis=1)"
   ]
  },
  {
   "cell_type": "code",
   "execution_count": 12,
   "id": "bf4822ed",
   "metadata": {},
   "outputs": [
    {
     "name": "stderr",
     "output_type": "stream",
     "text": [
      "C:\\Users\\User\\anaconda3\\lib\\site-packages\\sklearn\\neighbors\\_classification.py:228: FutureWarning: Unlike other reduction functions (e.g. `skew`, `kurtosis`), the default behavior of `mode` typically preserves the axis it acts along. In SciPy 1.11.0, this behavior will change: the default value of `keepdims` will become False, the `axis` over which the statistic is taken will be eliminated, and the value None will no longer be accepted. Set `keepdims` to True or False to avoid this warning.\n",
      "  mode, _ = stats.mode(_y[neigh_ind, k], axis=1)\n"
     ]
    },
    {
     "name": "stdout",
     "output_type": "stream",
     "text": [
      "KNN調整後之MSE: 5716983.0406582765\n",
      "KNN調整後之RMSE: 2391.0213383945943\n",
      "KNN調整後之MAPE: 1.8955605951249541\n"
     ]
    }
   ],
   "source": [
    "#KNN(n=3)調整後\n",
    "knn = KNeighborsClassifier(n_neighbors=3)\n",
    "knn.fit(X_train, y_train.astype(\"string\"))\n",
    "pred = knn.predict(X_test)\n",
    "\n",
    "MAE = metrics.mean_squared_error(y_test, pred)\n",
    "\n",
    "print(\"KNN調整後之MSE:\", MAE)\n",
    "print(\"KNN調整後之RMSE:\", math.sqrt(MAE))\n",
    "print(\"KNN調整後之MAPE:\", metrics.mean_absolute_percentage_error(y_test, pred))"
   ]
  },
  {
   "cell_type": "code",
   "execution_count": 13,
   "id": "e9e84b6a",
   "metadata": {},
   "outputs": [
    {
     "name": "stdout",
     "output_type": "stream",
     "text": [
      "SVR調整後之MSE: 3908589.2848356646\n",
      "SVR調整後之RMSE: 1977.0152464853843\n",
      "SVR調整後之MAPE: 2.9047807729028934\n"
     ]
    }
   ],
   "source": [
    "#SVR調整後\n",
    "svr = svm.SVR(C=1)\n",
    "svr.fit(X_train, y_train)\n",
    "pred = svr.predict(X_test)\n",
    "\n",
    "MAE = metrics.mean_squared_error(y_test, pred)\n",
    "\n",
    "print(\"SVR調整後之MSE:\", MAE)\n",
    "print(\"SVR調整後之RMSE:\", math.sqrt(MAE))\n",
    "print(\"SVR調整後之MAPE:\", metrics.mean_absolute_percentage_error(y_test, pred))"
   ]
  },
  {
   "cell_type": "code",
   "execution_count": 14,
   "id": "102dec83",
   "metadata": {},
   "outputs": [
    {
     "name": "stderr",
     "output_type": "stream",
     "text": [
      "C:\\Users\\User\\anaconda3\\lib\\site-packages\\sklearn\\ensemble\\_forest.py:396: FutureWarning: Criterion 'mse' was deprecated in v1.0 and will be removed in version 1.2. Use `criterion='squared_error'` which is equivalent.\n",
      "  warn(\n"
     ]
    },
    {
     "name": "stdout",
     "output_type": "stream",
     "text": [
      "RandomForest調整後之MSE: 3766617.6730504786\n",
      "RandomForest調整後之RMSE: 1940.777594947571\n",
      "RandomForest調整後之MAPE: 2.5809912600888145\n"
     ]
    }
   ],
   "source": [
    "#RandomForest調整後\n",
    "randomForest = RandomForestRegressor(n_estimators=100, criterion = \"mse\")\n",
    "randomForest.fit(X_train, y_train)\n",
    "pred = randomForest.predict(X_test)\n",
    "\n",
    "MAE = metrics.mean_squared_error(y_test, pred)\n",
    "\n",
    "print(\"RandomForest調整後之MSE:\", MAE)\n",
    "print(\"RandomForest調整後之RMSE:\", math.sqrt(MAE))\n",
    "print(\"RandomForest調整後之MAPE:\", metrics.mean_absolute_percentage_error(y_test, pred))"
   ]
  }
 ],
 "metadata": {
  "kernelspec": {
   "display_name": "Python 3 (ipykernel)",
   "language": "python",
   "name": "python3"
  },
  "language_info": {
   "codemirror_mode": {
    "name": "ipython",
    "version": 3
   },
   "file_extension": ".py",
   "mimetype": "text/x-python",
   "name": "python",
   "nbconvert_exporter": "python",
   "pygments_lexer": "ipython3",
   "version": "3.9.13"
  }
 },
 "nbformat": 4,
 "nbformat_minor": 5
}
